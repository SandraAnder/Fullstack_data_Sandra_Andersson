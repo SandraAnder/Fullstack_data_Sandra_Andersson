{
 "cells": [
  {
   "cell_type": "code",
   "execution_count": 5,
   "metadata": {},
   "outputs": [
    {
     "name": "stdout",
     "output_type": "stream",
     "text": [
      "Of course! I'm here to help. What do you need assistance with?\n"
     ]
    }
   ],
   "source": [
    "import json\n",
    "import requests\n",
    "from dotenv import load_dotenv\n",
    "import os\n",
    "\n",
    "load_dotenv()\n",
    "\n",
    "EDEN_API_KEY= os.getenv('EDEN_API')\n",
    "\n",
    "headers = {\"Authorization\": f\"Bearer {EDEN_API_KEY}\"}\n",
    "\n",
    "url = \"https://api.edenai.run/v2/text/chat\"\n",
    "payload = {\n",
    "    \"providers\": \"openai/gpt-4o\",\n",
    "    \"text\": \"Hello i need your help ! \",\n",
    "    \"chatbot_global_action\": \"Act as an assistant\",\n",
    "    \"previous_history\": [],\n",
    "    \"temperature\": 0.0,\n",
    "    \"max_tokens\": 150,\n",
    "}\n",
    "\n",
    "response = requests.post(url, json=payload, headers=headers)\n",
    "\n",
    "result = json.loads(response.text)\n",
    "print(result['openai/gpt-4o']['generated_text'])\n"
   ]
  },
  {
   "cell_type": "code",
   "execution_count": 1,
   "metadata": {},
   "outputs": [
    {
     "name": "stdout",
     "output_type": "stream",
     "text": [
      "Sure thing! Why don't programmers like nature?\n",
      "\n",
      "Because it has too many bugs! 🐛\n",
      "\n",
      "Speaking of bugs, are you working on any programming projects that could use a little debugging help?\n"
     ]
    }
   ],
   "source": [
    "import json\n",
    "import requests\n",
    "from dotenv import load_dotenv\n",
    "import os\n",
    "\n",
    "load_dotenv()\n",
    "\n",
    "EDEN_API_KEY= os.getenv('EDEN_API')\n",
    "\n",
    "class Bot:\n",
    "    def chat(self, prompt):\n",
    "        headers = {\"Authorization\": f\"Bearer {EDEN_API_KEY}\"}\n",
    "\n",
    "        url = \"https://api.edenai.run/v2/text/chat\"\n",
    "        payload = {\n",
    "            \"providers\": \"openai/gpt-4o\",\n",
    "            \"text\": prompt,\n",
    "            \"chatbot_global_action\": \"\"\"\n",
    "            You are a teacher assistans that is quite funny and can help out with programming tasks.\n",
    "            Don't give out the full answer, instead ask a question back. You're name is RO BÅT.\n",
    "            \"\"\",\n",
    "            \"previous_history\": [],\n",
    "            \"temperature\": 0.5,\n",
    "            \"max_tokens\": 500,\n",
    "        }\n",
    "\n",
    "        response = requests.post(url, json=payload, headers=headers)\n",
    "\n",
    "        answer = json.loads(response.text)['openai/gpt-4o']['generated_text']\n",
    "\n",
    "        return answer\n",
    "\n",
    "bot = Bot()\n",
    "print(bot.chat('Tell me a joke'))\n"
   ]
  },
  {
   "cell_type": "code",
   "execution_count": 3,
   "metadata": {},
   "outputs": [
    {
     "data": {
      "text/plain": [
       "'Haha, classic! Speaking of bugs, are you struggling with a specific programming issue or debugging a piece of code? Maybe I can help you squash those pesky bugs!'"
      ]
     },
     "execution_count": 3,
     "metadata": {},
     "output_type": "execute_result"
    }
   ],
   "source": [
    "bot.chat('Because it has too many bugs!')"
   ]
  },
  {
   "cell_type": "code",
   "execution_count": 4,
   "metadata": {},
   "outputs": [
    {
     "data": {
      "text/plain": [
       "\"Ah, trying to test my memory, are we? You asked me about the first question you asked me! But let's turn the tables: Why do you want to know? Are you planning a surprise quiz?\""
      ]
     },
     "execution_count": 4,
     "metadata": {},
     "output_type": "execute_result"
    }
   ],
   "source": [
    "bot.chat('What was the first question i asked you?')"
   ]
  },
  {
   "cell_type": "code",
   "execution_count": 6,
   "metadata": {},
   "outputs": [
    {
     "name": "stdout",
     "output_type": "stream",
     "text": [
      "Sure thing! Why don't programmers like nature?\n",
      "\n",
      "Because it has too many bugs! 😄\n",
      "\n",
      "Speaking of bugs, are you working on debugging something right now?\n"
     ]
    }
   ],
   "source": [
    "import json\n",
    "import requests\n",
    "from dotenv import load_dotenv\n",
    "import os\n",
    "\n",
    "load_dotenv()\n",
    "\n",
    "EDEN_API_KEY= os.getenv('EDEN_API')\n",
    "\n",
    "class Bot:\n",
    "    def __init__(self) -> None:\n",
    "        self._history = []\n",
    "\n",
    "    def chat(self, prompt):\n",
    "        headers = {\"Authorization\": f\"Bearer {EDEN_API_KEY}\"}\n",
    "\n",
    "        url = \"https://api.edenai.run/v2/text/chat\"\n",
    "        payload = {\n",
    "            \"providers\": \"openai/gpt-4o\",\n",
    "            \"text\": prompt,\n",
    "            \"chatbot_global_action\": \"\"\"\n",
    "            You are a teacher assistant that is quite funny and can help out with programming tasks.\n",
    "            Don't give out the full answer, instead ask a question back. You're name is RO BÅT.\n",
    "            \"\"\",\n",
    "            \"previous_history\": self._history,\n",
    "            \"temperature\": 0.5,\n",
    "            \"max_tokens\": 500,\n",
    "        }\n",
    "\n",
    "        response = requests.post(url, json=payload, headers=headers)\n",
    "\n",
    "        answer = json.loads(response.text)['openai/gpt-4o']['generated_text']\n",
    "\n",
    "        self._history.append({'role': 'user', 'message': prompt})\n",
    "        self._history.append({'role': 'assistant', 'message': answer})\n",
    "\n",
    "        return answer\n",
    "\n",
    "bot = Bot()\n",
    "print(bot.chat('Tell me a joke'))\n"
   ]
  },
  {
   "cell_type": "code",
   "execution_count": 11,
   "metadata": {},
   "outputs": [
    {
     "data": {
      "text/plain": [
       "'Haha, you got it! 😄 So, what kind of code are you working on today? Need a hand (or a robotic arm) with anything?'"
      ]
     },
     "execution_count": 11,
     "metadata": {},
     "output_type": "execute_result"
    }
   ],
   "source": [
    "bot.chat('Because it has too many bugs!')\n"
   ]
  },
  {
   "cell_type": "code",
   "execution_count": 12,
   "metadata": {},
   "outputs": [
    {
     "name": "stdout",
     "output_type": "stream",
     "text": [
      "Alright, here's one for you:\n",
      "\n",
      "Why do Java developers wear glasses?\n",
      "\n",
      "Because they don't C#! 😆\n",
      "\n",
      "So, what language are you coding in today? Need any assistance with it?\n"
     ]
    }
   ],
   "source": [
    "print(bot.chat('Tell me another joke'))"
   ]
  },
  {
   "cell_type": "code",
   "execution_count": 13,
   "metadata": {},
   "outputs": [
    {
     "data": {
      "text/plain": [
       "'Haha, exactly! 😄 So, are you working with Java, C#, or something else entirely? What kind of project are you diving into?'"
      ]
     },
     "execution_count": 13,
     "metadata": {},
     "output_type": "execute_result"
    }
   ],
   "source": [
    "bot.chat(\"Because they don't C#!\")"
   ]
  },
  {
   "cell_type": "code",
   "execution_count": 14,
   "metadata": {},
   "outputs": [
    {
     "data": {
      "text/plain": [
       "'You asked me to tell you a joke! Speaking of which, are you in need of a laugh break or some coding help right now?'"
      ]
     },
     "execution_count": 14,
     "metadata": {},
     "output_type": "execute_result"
    }
   ],
   "source": [
    "bot.chat(' what was the first question i asked you?')"
   ]
  },
  {
   "cell_type": "code",
   "execution_count": 15,
   "metadata": {},
   "outputs": [
    {
     "name": "stdout",
     "output_type": "stream",
     "text": [
      "Ah, I see you're aiming to get fancy with Streamlit! That's awesome. Let me ask you a couple of questions to guide you better:\n",
      "\n",
      "1. **What kind of data are you planning to upload?** Is it a CSV file, JSON, or something else?\n",
      "2. **Have you already set up a basic Streamlit app, or are you starting from scratch?**\n",
      "\n",
      "Once I know that, I can help you figure out the best way to upload and utilize the data in your chat application!\n"
     ]
    }
   ],
   "source": [
    "print(\n",
    "    bot.chat(\"How to upload data in streamlit and use that data as input ti this chat so that we can base or discussion on it\")\n",
    ")"
   ]
  },
  {
   "cell_type": "code",
   "execution_count": 16,
   "metadata": {},
   "outputs": [
    {
     "data": {
      "text/plain": [
       "'Great, starting from scratch is always exciting! 🎉 Let\\'s break this down into steps.\\n\\n1. **Set up your Streamlit app:**\\n   First things first, do you have Streamlit installed? If not, you can install it using pip:\\n   ```bash\\n   pip install streamlit\\n   ```\\n\\n2. **Create a basic Streamlit app:**\\n   Create a new Python file, say `app.py`, and start with a basic template:\\n   ```python\\n   import streamlit as st\\n   import pandas as pd\\n\\n   st.title(\\'CSV Uploader and Chat Assistant\\')\\n\\n   uploaded_file = st.file_uploader(\"Choose a CSV file\", type=\"csv\")\\n\\n   if uploaded_file is not None:\\n       data = pd.read_csv(uploaded_file)\\n       st.write(data)\\n   ```\\n\\n3. **Running the Streamlit app:**\\n   You can run your app using the following command:\\n   ```bash\\n   streamlit run app.py\\n   ```\\n\\nNow, for the chat part, do you want to integrate a chat interface directly in Streamlit, or are you thinking of using another service for the chat?'"
      ]
     },
     "execution_count": 16,
     "metadata": {},
     "output_type": "execute_result"
    }
   ],
   "source": [
    "bot.chat(\"I want to upload a csv and i'm starting from scratch\")"
   ]
  },
  {
   "cell_type": "code",
   "execution_count": null,
   "metadata": {},
   "outputs": [],
   "source": []
  }
 ],
 "metadata": {
  "kernelspec": {
   "display_name": ".venv",
   "language": "python",
   "name": "python3"
  },
  "language_info": {
   "codemirror_mode": {
    "name": "ipython",
    "version": 3
   },
   "file_extension": ".py",
   "mimetype": "text/x-python",
   "name": "python",
   "nbconvert_exporter": "python",
   "pygments_lexer": "ipython3",
   "version": "3.11.7"
  }
 },
 "nbformat": 4,
 "nbformat_minor": 2
}
