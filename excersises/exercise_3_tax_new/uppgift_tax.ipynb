{
 "cells": [
  {
   "cell_type": "markdown",
   "metadata": {},
   "source": [
    "## 1. How do Göteborg stad spend our tax money?\n",
    "  a) Connect Python to duckdb and save the data of two or more leverantörsfakturor (csv) in Göteborg stad into a duckdb database.\n",
    "\n",
    "  b) Do an EDA of your choice using SQL.\n",
    "\n",
    "  c) Now try to join two or more files.\n",
    "\n",
    "  d) See if you can connect to streamlit and make a simple dashboard."
   ]
  },
  {
   "cell_type": "code",
   "execution_count": null,
   "metadata": {},
   "outputs": [],
   "source": []
  }
 ],
 "metadata": {
  "language_info": {
   "name": "python"
  }
 },
 "nbformat": 4,
 "nbformat_minor": 2
}
