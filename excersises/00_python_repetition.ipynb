{
 "cells": [
  {
   "cell_type": "markdown",
   "metadata": {},
   "source": [
    "## 0. Hire IT employee data\n",
    "\n",
    "In a company `Hire IT`, there are these employees.\n",
    "\n",
    "| employeeID | name    | department | salary |\n",
    "| ---------: | :------ | :--------- | ------ |\n",
    "|          0 | Alice   | HR         | 31000  |\n",
    "|          1 | Bob     | IT         | 41000  |\n",
    "|          2 | Charlie | HR         | 28000  |\n",
    "\n",
    "&nbsp; a) Create a list of dictionaries to represent this data, where each dictionary represents each row.\n",
    "\n",
    "&nbsp; b) Extract the second record in this dataset.\n",
    "\n",
    "&nbsp; c) Extract all rows from this dataset and print it in this format\n",
    "\n",
    "```\n",
    "Alice works in department HR and earns 31000.\n",
    "Bob works in department IT and earns 41000.\n",
    "Charlie works in department HR and earns 28000.\n",
    "```\n",
    "\n",
    "&nbsp; d) Find out the average salary in Hire IT.\n",
    "\n",
    "&nbsp; e) Find out the average salary among the HR department in Hire IT.\n",
    "\n",
    "&nbsp; f) Extract all records where the department is HR.\n",
    "\n",
    "&nbsp; g) Find all unique departments in this list.\n",
    "\n",
    "For the following exercises the data has now been updated with the age column\n",
    "\n",
    "| employeeID | name    | department | salary | age |\n",
    "| ---------: | :------ | :--------- | ------ | --- |\n",
    "|          0 | Alice   | HR         | 31000  | 26  |\n",
    "|          1 | Bob     | IT         | 41000  | 37  |\n",
    "|          2 | Charlie | HR         | 28000  |     |\n",
    "\n",
    "&nbsp; h) Add this age column into our list of dictionaries. `None` should be used for empty fields.\n",
    "\n",
    "&nbsp; i) A new employee named David starts at the IT department, with salary 35000 and has the age 30. Create a function to add this record to the dataset."
   ]
  },
  {
   "cell_type": "code",
   "execution_count": 1,
   "metadata": {},
   "outputs": [],
   "source": [
    "# employees = {'id': [0, 1, 2], 'name': ['Alice', 'Bob', 'Charlie'], 'department': ['HR', 'IT', 'HR'], 'salary': [31000, 41000, 28000]}\n",
    "\n",
    "# for key, value in employees.items():\n",
    "#     print(f'{key: <15} {value}')"
   ]
  },
  {
   "cell_type": "code",
   "execution_count": 2,
   "metadata": {},
   "outputs": [],
   "source": [
    "# employees['name']"
   ]
  },
  {
   "cell_type": "code",
   "execution_count": 3,
   "metadata": {},
   "outputs": [],
   "source": [
    "employees = [\n",
    "    {'id': 0, 'name': 'Alice', 'department': 'HR', 'salary': 31000},\n",
    "    {'id': 1, 'name': 'Bob', 'department': 'IT', 'salary': 41000},\n",
    "    {'id': 2, 'name': 'Charlie', 'department': 'HR', 'salary': 28000}]"
   ]
  },
  {
   "cell_type": "code",
   "execution_count": 4,
   "metadata": {},
   "outputs": [
    {
     "data": {
      "text/plain": [
       "{'id': 1, 'name': 'Bob', 'department': 'IT', 'salary': 41000}"
      ]
     },
     "execution_count": 4,
     "metadata": {},
     "output_type": "execute_result"
    }
   ],
   "source": [
    "employees[1]"
   ]
  },
  {
   "cell_type": "code",
   "execution_count": 6,
   "metadata": {},
   "outputs": [
    {
     "data": {
      "text/plain": [
       "'Alice'"
      ]
     },
     "execution_count": 6,
     "metadata": {},
     "output_type": "execute_result"
    }
   ],
   "source": [
    "employees[0]['name']"
   ]
  },
  {
   "cell_type": "code",
   "execution_count": 9,
   "metadata": {},
   "outputs": [
    {
     "name": "stdout",
     "output_type": "stream",
     "text": [
      "id: 0\n",
      "name: Alice\n",
      "department: HR\n",
      "salary: 31000\n",
      "id: 1\n",
      "name: Bob\n",
      "department: IT\n",
      "salary: 41000\n",
      "id: 2\n",
      "name: Charlie\n",
      "department: HR\n",
      "salary: 28000\n"
     ]
    }
   ],
   "source": [
    "for employee in employees:\n",
    "    for key, value in employee.items():\n",
    "            print(f'{key}: {value}')"
   ]
  },
  {
   "cell_type": "code",
   "execution_count": null,
   "metadata": {},
   "outputs": [
    {
     "name": "stdout",
     "output_type": "stream",
     "text": [
      "id\n",
      "name\n",
      "department\n",
      "salary\n"
     ]
    }
   ],
   "source": [
    "for item in employees:\n",
    "    print(item)"
   ]
  },
  {
   "cell_type": "code",
   "execution_count": null,
   "metadata": {},
   "outputs": [
    {
     "name": "stdout",
     "output_type": "stream",
     "text": [
      "Alice works in department HR and earns 31000.\n",
      "Bob works in department IT and earns 41000.\n",
      "Charlie works in department HR and earns 28000.\n"
     ]
    }
   ],
   "source": [
    "for employee in employees:\n",
    "    print(f\"{employee['name']} works in department {employee['department']} and earns {employee['salary']}.\")"
   ]
  },
  {
   "cell_type": "code",
   "execution_count": null,
   "metadata": {},
   "outputs": [
    {
     "ename": "TypeError",
     "evalue": "string indices must be integers, not 'str'",
     "output_type": "error",
     "traceback": [
      "\u001b[1;31m---------------------------------------------------------------------------\u001b[0m",
      "\u001b[1;31mTypeError\u001b[0m                                 Traceback (most recent call last)",
      "Cell \u001b[1;32mIn[57], line 5\u001b[0m\n\u001b[0;32m      2\u001b[0m     total_salary \u001b[38;5;241m=\u001b[39m \u001b[38;5;28msum\u001b[39m(employee[\u001b[38;5;124m'\u001b[39m\u001b[38;5;124msalary\u001b[39m\u001b[38;5;124m'\u001b[39m] \u001b[38;5;28;01mfor\u001b[39;00m employee \u001b[38;5;129;01min\u001b[39;00m employees)\n\u001b[0;32m      3\u001b[0m     \u001b[38;5;28;01mreturn\u001b[39;00m total_salary \u001b[38;5;241m/\u001b[39m \u001b[38;5;28mlen\u001b[39m(employees)\n\u001b[1;32m----> 5\u001b[0m avg_salary \u001b[38;5;241m=\u001b[39m \u001b[43mavgerage_salary\u001b[49m\u001b[43m(\u001b[49m\u001b[43memployees\u001b[49m\u001b[43m)\u001b[49m\n\u001b[0;32m      6\u001b[0m \u001b[38;5;28mprint\u001b[39m(\u001b[38;5;124mf\u001b[39m\u001b[38;5;124m'\u001b[39m\u001b[38;5;124mAverage salary in Hire IT is: \u001b[39m\u001b[38;5;132;01m{\u001b[39;00mavg_salary\u001b[38;5;132;01m:\u001b[39;00m\u001b[38;5;124m2f\u001b[39m\u001b[38;5;132;01m}\u001b[39;00m\u001b[38;5;124m'\u001b[39m)\n",
      "Cell \u001b[1;32mIn[57], line 2\u001b[0m, in \u001b[0;36mavgerage_salary\u001b[1;34m(employees)\u001b[0m\n\u001b[0;32m      1\u001b[0m \u001b[38;5;28;01mdef\u001b[39;00m \u001b[38;5;21mavgerage_salary\u001b[39m(employees):\n\u001b[1;32m----> 2\u001b[0m     total_salary \u001b[38;5;241m=\u001b[39m \u001b[38;5;28;43msum\u001b[39;49m\u001b[43m(\u001b[49m\u001b[43memployee\u001b[49m\u001b[43m[\u001b[49m\u001b[38;5;124;43m'\u001b[39;49m\u001b[38;5;124;43msalary\u001b[39;49m\u001b[38;5;124;43m'\u001b[39;49m\u001b[43m]\u001b[49m\u001b[43m \u001b[49m\u001b[38;5;28;43;01mfor\u001b[39;49;00m\u001b[43m \u001b[49m\u001b[43memployee\u001b[49m\u001b[43m \u001b[49m\u001b[38;5;129;43;01min\u001b[39;49;00m\u001b[43m \u001b[49m\u001b[43memployees\u001b[49m\u001b[43m)\u001b[49m\n\u001b[0;32m      3\u001b[0m     \u001b[38;5;28;01mreturn\u001b[39;00m total_salary \u001b[38;5;241m/\u001b[39m \u001b[38;5;28mlen\u001b[39m(employees)\n",
      "Cell \u001b[1;32mIn[57], line 2\u001b[0m, in \u001b[0;36m<genexpr>\u001b[1;34m(.0)\u001b[0m\n\u001b[0;32m      1\u001b[0m \u001b[38;5;28;01mdef\u001b[39;00m \u001b[38;5;21mavgerage_salary\u001b[39m(employees):\n\u001b[1;32m----> 2\u001b[0m     total_salary \u001b[38;5;241m=\u001b[39m \u001b[38;5;28msum\u001b[39m(\u001b[43memployee\u001b[49m\u001b[43m[\u001b[49m\u001b[38;5;124;43m'\u001b[39;49m\u001b[38;5;124;43msalary\u001b[39;49m\u001b[38;5;124;43m'\u001b[39;49m\u001b[43m]\u001b[49m \u001b[38;5;28;01mfor\u001b[39;00m employee \u001b[38;5;129;01min\u001b[39;00m employees)\n\u001b[0;32m      3\u001b[0m     \u001b[38;5;28;01mreturn\u001b[39;00m total_salary \u001b[38;5;241m/\u001b[39m \u001b[38;5;28mlen\u001b[39m(employees)\n",
      "\u001b[1;31mTypeError\u001b[0m: string indices must be integers, not 'str'"
     ]
    }
   ],
   "source": [
    "def avgerage_salary(employees):\n",
    "    total_salary = sum(employee['salary'] for employee in employees)\n",
    "    return total_salary / len(employees)\n",
    "    \n",
    "avg_salary = avgerage_salary(employees)\n",
    "print(f'Average salary in Hire IT is: {avg_salary:2f}')"
   ]
  },
  {
   "cell_type": "code",
   "execution_count": null,
   "metadata": {},
   "outputs": [
    {
     "name": "stdout",
     "output_type": "stream",
     "text": [
      "Average salary for HR department is: 29500.000000\n"
     ]
    }
   ],
   "source": [
    "def average_hr_salary(employees):\n",
    "    hr_emp = [employee for employee in employees if employee['department'] == 'HR']\n",
    "    total_salary = sum(employee[\"salary\"] for employee in hr_emp)\n",
    "    return total_salary / len(hr_emp) if hr_emp else 0\n",
    "    \n",
    "avg_salary_hr = average_hr_salary(employees)\n",
    "print(f'Average salary for HR department is: {avg_salary_hr:2f}')"
   ]
  },
  {
   "cell_type": "code",
   "execution_count": null,
   "metadata": {},
   "outputs": [
    {
     "name": "stdout",
     "output_type": "stream",
     "text": [
      "f) HR department records:\n",
      "{'id': 0, 'name': 'Alice', 'department': 'HR', 'salary': 31000}\n",
      "{'id': 2, 'name': 'Charlie', 'department': 'HR', 'salary': 28000}\n"
     ]
    }
   ],
   "source": [
    "def hr_records(employees):\n",
    "    return [employee for employee in employees if employee[\"department\"] == \"HR\"]\n",
    "\n",
    "hr_rec = hr_records(employees)\n",
    "print(\"f) HR department records:\")\n",
    "for employee in hr_rec:\n",
    "    print(employee)"
   ]
  },
  {
   "cell_type": "code",
   "execution_count": null,
   "metadata": {},
   "outputs": [
    {
     "name": "stdout",
     "output_type": "stream",
     "text": [
      "g) Unique departments: {'HR', 'IT'}\n"
     ]
    }
   ],
   "source": [
    "def uniqe_dep(employees):\n",
    "    return set(employeelst['department'] for employeelst in employees)\n",
    "\n",
    "unq_dep = uniqe_dep(employees)\n",
    "print(f\"g) Unique departments: {unq_dep}\")"
   ]
  },
  {
   "cell_type": "code",
   "execution_count": null,
   "metadata": {},
   "outputs": [
    {
     "name": "stdout",
     "output_type": "stream",
     "text": [
      "h: {'id': 0, 'name': 'Alice', 'department': 'HR', 'salary': 31000, 'age': 26} uppdaterad\n",
      "h: {'id': 1, 'name': 'Bob', 'department': 'IT', 'salary': 41000, 'age': 37} uppdaterad\n",
      "h: {'id': 2, 'name': 'Charlie', 'department': 'HR', 'salary': 28000, 'age': None} uppdaterad\n"
     ]
    }
   ],
   "source": [
    "employees[0]['age'] = 26\n",
    "employees[1]['age'] = 37\n",
    "employees[2]['age'] = None\n",
    "\n",
    "for employee in employees:\n",
    "    print(f'h: {employee} uppdaterad')"
   ]
  },
  {
   "cell_type": "code",
   "execution_count": null,
   "metadata": {},
   "outputs": [
    {
     "name": "stdout",
     "output_type": "stream",
     "text": [
      "i), added David to list\n",
      "{'id': 0, 'name': 'Alice', 'department': 'HR', 'salary': 31000, 'age': 26}\n",
      "{'id': 1, 'name': 'Bob', 'department': 'IT', 'salary': 41000, 'age': 37}\n",
      "{'id': 2, 'name': 'Charlie', 'department': 'HR', 'salary': 28000, 'age': None}\n",
      "{'id': 3, 'name': 'David', 'department': 'IT', 'salary': 35000, 'age': 30}\n"
     ]
    }
   ],
   "source": [
    "def add_employee(employees, id, name, department, salary, age):\n",
    "    new_employee = {\n",
    "        'id': id,\n",
    "        'name': name,\n",
    "        'department': department,\n",
    "        'salary': salary,\n",
    "        'age': age\n",
    "    }\n",
    "    employees.append(new_employee)\n",
    "\n",
    "#add_employee(employees, 3, 'David', 'IT', 35000, 30)\n",
    "#employees.pop()\n",
    "\n",
    "print(f'i), added David to list')\n",
    "for employee in employees:\n",
    "    print(employee)"
   ]
  },
  {
   "cell_type": "code",
   "execution_count": null,
   "metadata": {},
   "outputs": [],
   "source": []
  }
 ],
 "metadata": {
  "kernelspec": {
   "display_name": ".venv",
   "language": "python",
   "name": "python3"
  },
  "language_info": {
   "codemirror_mode": {
    "name": "ipython",
    "version": 3
   },
   "file_extension": ".py",
   "mimetype": "text/x-python",
   "name": "python",
   "nbconvert_exporter": "python",
   "pygments_lexer": "ipython3",
   "version": "3.11.7"
  }
 },
 "nbformat": 4,
 "nbformat_minor": 2
}
