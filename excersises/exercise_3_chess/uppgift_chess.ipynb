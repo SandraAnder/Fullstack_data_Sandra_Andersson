{
 "cells": [
  {
   "cell_type": "markdown",
   "metadata": {},
   "source": [
    "## 0. Chess games\n",
    "In lecture 08 we used duckdb CLI to read youtube data into the database and then used dbeaver to query the database. Now do similar but with chessgames from lichess.\n",
    "\n",
    "  a) Start with reading in this dataset into a duckdb database named chess.db\n",
    "\n",
    "For the following exercises, use dbeaver and duckdb to query the data\n",
    "\n",
    "  b) Find out the possible categories for winner column.\n",
    "\n",
    "  c) Find out the possible categories for victory_status column.\n",
    "\n",
    "  d) Check total number of games represented in the dataset.\n",
    "\n",
    "  e) Get statistics on the number draws, the number of white wins and number of black wins.\n",
    "\n",
    "  f) Check the top 10 most popular openings\n",
    "\n",
    "  g) Which player has the highest ranking?"
   ]
  },
  {
   "cell_type": "markdown",
   "metadata": {},
   "source": []
  }
 ],
 "metadata": {
  "kernelspec": {
   "display_name": ".venv",
   "language": "python",
   "name": "python3"
  },
  "language_info": {
   "name": "python",
   "version": "3.11.7"
  }
 },
 "nbformat": 4,
 "nbformat_minor": 2
}
